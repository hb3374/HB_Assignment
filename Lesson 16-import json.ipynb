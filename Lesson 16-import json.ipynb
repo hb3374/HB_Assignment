{
 "cells": [
  {
   "cell_type": "code",
   "execution_count": 28,
   "metadata": {},
   "outputs": [],
   "source": [
    "import requests"
   ]
  },
  {
   "cell_type": "code",
   "execution_count": 29,
   "metadata": {},
   "outputs": [
    {
     "name": "stdout",
     "output_type": "stream",
     "text": [
      "Enter the city name: singapore\n"
     ]
    }
   ],
   "source": [
    "placeName=input(\"Enter the city name: \")"
   ]
  },
  {
   "cell_type": "code",
   "execution_count": 31,
   "metadata": {},
   "outputs": [],
   "source": [
    "weather=\"http://api.openweathermap.org/data/2.5/forecast/?q=%s&cnt=5&mode=json&units=metric&APPID=ad4a9fa289b339beaebe078f6f28a831\"%(placeName)"
   ]
  },
  {
   "cell_type": "code",
   "execution_count": 32,
   "metadata": {},
   "outputs": [],
   "source": [
    "respObj=requests.get(weather)"
   ]
  },
  {
   "cell_type": "code",
   "execution_count": 8,
   "metadata": {},
   "outputs": [
    {
     "data": {
      "text/plain": [
       "<Response [200]>"
      ]
     },
     "execution_count": 8,
     "metadata": {},
     "output_type": "execute_result"
    }
   ],
   "source": [
    "respObj"
   ]
  },
  {
   "cell_type": "code",
   "execution_count": 9,
   "metadata": {},
   "outputs": [],
   "source": [
    "weather=respObj.text"
   ]
  },
  {
   "cell_type": "code",
   "execution_count": 10,
   "metadata": {},
   "outputs": [
    {
     "data": {
      "text/plain": [
       "'{\"cod\":\"200\",\"message\":0,\"cnt\":5,\"list\":[{\"dt\":1590559200,\"main\":{\"temp\":29.64,\"feels_like\":34.43,\"temp_min\":29.63,\"temp_max\":29.64,\"pressure\":1011,\"sea_level\":1010,\"grnd_level\":1007,\"humidity\":73,\"temp_kf\":0.01},\"weather\":[{\"id\":500,\"main\":\"Rain\",\"description\":\"light rain\",\"icon\":\"10d\"}],\"clouds\":{\"all\":87},\"wind\":{\"speed\":1.7,\"deg\":210},\"rain\":{\"3h\":0.92},\"sys\":{\"pod\":\"d\"},\"dt_txt\":\"2020-05-27 06:00:00\"},{\"dt\":1590570000,\"main\":{\"temp\":29.38,\"feels_like\":33.39,\"temp_min\":29.3,\"temp_max\":29.38,\"pressure\":1009,\"sea_level\":1008,\"grnd_level\":1005,\"humidity\":76,\"temp_kf\":0.08},\"weather\":[{\"id\":500,\"main\":\"Rain\",\"description\":\"light rain\",\"icon\":\"10d\"}],\"clouds\":{\"all\":94},\"wind\":{\"speed\":3.18,\"deg\":129},\"rain\":{\"3h\":0.35},\"sys\":{\"pod\":\"d\"},\"dt_txt\":\"2020-05-27 09:00:00\"},{\"dt\":1590580800,\"main\":{\"temp\":29.07,\"feels_like\":31.85,\"temp_min\":29.03,\"temp_max\":29.07,\"pressure\":1009,\"sea_level\":1009,\"grnd_level\":1007,\"humidity\":79,\"temp_kf\":0.04},\"weather\":[{\"id\":804,\"main\":\"Clouds\",\"description\":\"overcast clouds\",\"icon\":\"04n\"}],\"clouds\":{\"all\":97},\"wind\":{\"speed\":5.24,\"deg\":97},\"sys\":{\"pod\":\"n\"},\"dt_txt\":\"2020-05-27 12:00:00\"},{\"dt\":1590591600,\"main\":{\"temp\":28.66,\"feels_like\":31.59,\"temp_min\":28.65,\"temp_max\":28.66,\"pressure\":1011,\"sea_level\":1011,\"grnd_level\":1009,\"humidity\":80,\"temp_kf\":0.01},\"weather\":[{\"id\":804,\"main\":\"Clouds\",\"description\":\"overcast clouds\",\"icon\":\"04n\"}],\"clouds\":{\"all\":100},\"wind\":{\"speed\":4.87,\"deg\":95},\"sys\":{\"pod\":\"n\"},\"dt_txt\":\"2020-05-27 15:00:00\"},{\"dt\":1590602400,\"main\":{\"temp\":28.4,\"feels_like\":31.6,\"temp_min\":28.4,\"temp_max\":28.4,\"pressure\":1010,\"sea_level\":1010,\"grnd_level\":1008,\"humidity\":81,\"temp_kf\":0},\"weather\":[{\"id\":804,\"main\":\"Clouds\",\"description\":\"overcast clouds\",\"icon\":\"04n\"}],\"clouds\":{\"all\":98},\"wind\":{\"speed\":4.44,\"deg\":95},\"sys\":{\"pod\":\"n\"},\"dt_txt\":\"2020-05-27 18:00:00\"}],\"city\":{\"id\":1880252,\"name\":\"Singapore\",\"coord\":{\"lat\":1.2897,\"lon\":103.8501},\"country\":\"SG\",\"population\":3547809,\"timezone\":28800,\"sunrise\":1590533781,\"sunset\":1590577651}}'"
      ]
     },
     "execution_count": 10,
     "metadata": {},
     "output_type": "execute_result"
    }
   ],
   "source": [
    "weather"
   ]
  },
  {
   "cell_type": "code",
   "execution_count": 11,
   "metadata": {},
   "outputs": [],
   "source": [
    "import json"
   ]
  },
  {
   "cell_type": "code",
   "execution_count": 12,
   "metadata": {},
   "outputs": [],
   "source": [
    "weather=json.loads(weather)"
   ]
  },
  {
   "cell_type": "code",
   "execution_count": 13,
   "metadata": {},
   "outputs": [
    {
     "data": {
      "text/plain": [
       "{'cod': '200',\n",
       " 'message': 0,\n",
       " 'cnt': 5,\n",
       " 'list': [{'dt': 1590559200,\n",
       "   'main': {'temp': 29.64,\n",
       "    'feels_like': 34.43,\n",
       "    'temp_min': 29.63,\n",
       "    'temp_max': 29.64,\n",
       "    'pressure': 1011,\n",
       "    'sea_level': 1010,\n",
       "    'grnd_level': 1007,\n",
       "    'humidity': 73,\n",
       "    'temp_kf': 0.01},\n",
       "   'weather': [{'id': 500,\n",
       "     'main': 'Rain',\n",
       "     'description': 'light rain',\n",
       "     'icon': '10d'}],\n",
       "   'clouds': {'all': 87},\n",
       "   'wind': {'speed': 1.7, 'deg': 210},\n",
       "   'rain': {'3h': 0.92},\n",
       "   'sys': {'pod': 'd'},\n",
       "   'dt_txt': '2020-05-27 06:00:00'},\n",
       "  {'dt': 1590570000,\n",
       "   'main': {'temp': 29.38,\n",
       "    'feels_like': 33.39,\n",
       "    'temp_min': 29.3,\n",
       "    'temp_max': 29.38,\n",
       "    'pressure': 1009,\n",
       "    'sea_level': 1008,\n",
       "    'grnd_level': 1005,\n",
       "    'humidity': 76,\n",
       "    'temp_kf': 0.08},\n",
       "   'weather': [{'id': 500,\n",
       "     'main': 'Rain',\n",
       "     'description': 'light rain',\n",
       "     'icon': '10d'}],\n",
       "   'clouds': {'all': 94},\n",
       "   'wind': {'speed': 3.18, 'deg': 129},\n",
       "   'rain': {'3h': 0.35},\n",
       "   'sys': {'pod': 'd'},\n",
       "   'dt_txt': '2020-05-27 09:00:00'},\n",
       "  {'dt': 1590580800,\n",
       "   'main': {'temp': 29.07,\n",
       "    'feels_like': 31.85,\n",
       "    'temp_min': 29.03,\n",
       "    'temp_max': 29.07,\n",
       "    'pressure': 1009,\n",
       "    'sea_level': 1009,\n",
       "    'grnd_level': 1007,\n",
       "    'humidity': 79,\n",
       "    'temp_kf': 0.04},\n",
       "   'weather': [{'id': 804,\n",
       "     'main': 'Clouds',\n",
       "     'description': 'overcast clouds',\n",
       "     'icon': '04n'}],\n",
       "   'clouds': {'all': 97},\n",
       "   'wind': {'speed': 5.24, 'deg': 97},\n",
       "   'sys': {'pod': 'n'},\n",
       "   'dt_txt': '2020-05-27 12:00:00'},\n",
       "  {'dt': 1590591600,\n",
       "   'main': {'temp': 28.66,\n",
       "    'feels_like': 31.59,\n",
       "    'temp_min': 28.65,\n",
       "    'temp_max': 28.66,\n",
       "    'pressure': 1011,\n",
       "    'sea_level': 1011,\n",
       "    'grnd_level': 1009,\n",
       "    'humidity': 80,\n",
       "    'temp_kf': 0.01},\n",
       "   'weather': [{'id': 804,\n",
       "     'main': 'Clouds',\n",
       "     'description': 'overcast clouds',\n",
       "     'icon': '04n'}],\n",
       "   'clouds': {'all': 100},\n",
       "   'wind': {'speed': 4.87, 'deg': 95},\n",
       "   'sys': {'pod': 'n'},\n",
       "   'dt_txt': '2020-05-27 15:00:00'},\n",
       "  {'dt': 1590602400,\n",
       "   'main': {'temp': 28.4,\n",
       "    'feels_like': 31.6,\n",
       "    'temp_min': 28.4,\n",
       "    'temp_max': 28.4,\n",
       "    'pressure': 1010,\n",
       "    'sea_level': 1010,\n",
       "    'grnd_level': 1008,\n",
       "    'humidity': 81,\n",
       "    'temp_kf': 0},\n",
       "   'weather': [{'id': 804,\n",
       "     'main': 'Clouds',\n",
       "     'description': 'overcast clouds',\n",
       "     'icon': '04n'}],\n",
       "   'clouds': {'all': 98},\n",
       "   'wind': {'speed': 4.44, 'deg': 95},\n",
       "   'sys': {'pod': 'n'},\n",
       "   'dt_txt': '2020-05-27 18:00:00'}],\n",
       " 'city': {'id': 1880252,\n",
       "  'name': 'Singapore',\n",
       "  'coord': {'lat': 1.2897, 'lon': 103.8501},\n",
       "  'country': 'SG',\n",
       "  'population': 3547809,\n",
       "  'timezone': 28800,\n",
       "  'sunrise': 1590533781,\n",
       "  'sunset': 1590577651}}"
      ]
     },
     "execution_count": 13,
     "metadata": {},
     "output_type": "execute_result"
    }
   ],
   "source": [
    "weather"
   ]
  },
  {
   "cell_type": "code",
   "execution_count": 14,
   "metadata": {},
   "outputs": [
    {
     "data": {
      "text/plain": [
       "{'id': 500, 'main': 'Rain', 'description': 'light rain', 'icon': '10d'}"
      ]
     },
     "execution_count": 14,
     "metadata": {},
     "output_type": "execute_result"
    }
   ],
   "source": [
    "weather.get('list')[0].get('weather')[0]"
   ]
  },
  {
   "cell_type": "code",
   "execution_count": 17,
   "metadata": {},
   "outputs": [
    {
     "data": {
      "text/plain": [
       "'light rain'"
      ]
     },
     "execution_count": 17,
     "metadata": {},
     "output_type": "execute_result"
    }
   ],
   "source": [
    "weather.get('list')[0].get('weather')[0].get('description',\"Not Available\")"
   ]
  },
  {
   "cell_type": "code",
   "execution_count": 27,
   "metadata": {},
   "outputs": [
    {
     "name": "stdout",
     "output_type": "stream",
     "text": [
      "\n",
      "Min Temp : 29.63 \t Max Temp : 29.64 \t Description : light rain \t\n",
      "\n",
      "Min Temp : 29.3 \t Max Temp : 29.38 \t Description : light rain \t\n",
      "\n",
      "Min Temp : 29.03 \t Max Temp : 29.07 \t Description : overcast clouds \t\n",
      "\n",
      "Min Temp : 28.65 \t Max Temp : 28.66 \t Description : overcast clouds \t\n",
      "\n",
      "Min Temp : 28.4 \t Max Temp : 28.4 \t Description : overcast clouds \t\n"
     ]
    }
   ],
   "source": [
    "for everyday in weather.get('list'):\n",
    "    print(\"\"\"\n",
    "Min Temp : %s \\t Max Temp : %s \\t Description : %s \\t\"\"\"%(everyday.get('main').get(\"temp_min\"),everyday.get('main').get('temp_max'),everyday.get('weather')[0].get('description',\"Not Available\")))\n",
    "    "
   ]
  },
  {
   "cell_type": "code",
   "execution_count": null,
   "metadata": {},
   "outputs": [],
   "source": []
  }
 ],
 "metadata": {
  "kernelspec": {
   "display_name": "Python 3",
   "language": "python",
   "name": "python3"
  },
  "language_info": {
   "codemirror_mode": {
    "name": "ipython",
    "version": 3
   },
   "file_extension": ".py",
   "mimetype": "text/x-python",
   "name": "python",
   "nbconvert_exporter": "python",
   "pygments_lexer": "ipython3",
   "version": "3.7.7"
  }
 },
 "nbformat": 4,
 "nbformat_minor": 4
}
