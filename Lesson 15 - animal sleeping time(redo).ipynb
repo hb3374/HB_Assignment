{
 "cells": [
  {
   "cell_type": "code",
   "execution_count": 1,
   "metadata": {},
   "outputs": [],
   "source": [
    "import requests"
   ]
  },
  {
   "cell_type": "code",
   "execution_count": 2,
   "metadata": {},
   "outputs": [],
   "source": [
    "animal=\"https://raw.githubusercontent.com/genomicsclass/dagdata/master/inst/extdata/msleep_ggplot2.csv\""
   ]
  },
  {
   "cell_type": "code",
   "execution_count": 4,
   "metadata": {},
   "outputs": [],
   "source": [
    "rows=requests.get(animal)"
   ]
  },
  {
   "cell_type": "code",
   "execution_count": 5,
   "metadata": {},
   "outputs": [
    {
     "data": {
      "text/plain": [
       "<Response [200]>"
      ]
     },
     "execution_count": 5,
     "metadata": {},
     "output_type": "execute_result"
    }
   ],
   "source": [
    "rows"
   ]
  },
  {
   "cell_type": "code",
   "execution_count": 6,
   "metadata": {},
   "outputs": [],
   "source": [
    "time=rows.text"
   ]
  },
  {
   "cell_type": "code",
   "execution_count": 7,
   "metadata": {},
   "outputs": [],
   "source": [
    "time=time.split(\"\\n\")"
   ]
  },
  {
   "cell_type": "code",
   "execution_count": 8,
   "metadata": {},
   "outputs": [
    {
     "data": {
      "text/plain": [
       "''"
      ]
     },
     "execution_count": 8,
     "metadata": {},
     "output_type": "execute_result"
    }
   ],
   "source": [
    "time.pop()"
   ]
  },
  {
   "cell_type": "code",
   "execution_count": 9,
   "metadata": {},
   "outputs": [
    {
     "name": "stdout",
     "output_type": "stream",
     "text": [
      "name \t sleep_total\n",
      "Cheetah \t 12.1\n",
      "Owl monkey \t 17\n",
      "Mountain beaver \t 14.4\n",
      "Greater short-tailed shrew \t 14.9\n",
      "Cow \t 4\n",
      "Three-toed sloth \t 14.4\n",
      "Northern fur seal \t 8.7\n",
      "Vesper mouse \t 7\n",
      "Dog \t 10.1\n",
      "Roe deer \t 3\n",
      "Goat \t 5.3\n",
      "Guinea pig \t 9.4\n",
      "Grivet \t 10\n",
      "Chinchilla \t 12.5\n",
      "Star-nosed mole \t 10.3\n",
      "African giant pouched rat \t 8.3\n",
      "Lesser short-tailed shrew \t 9.1\n",
      "Long-nosed armadillo \t 17.4\n",
      "Tree hyrax \t 5.3\n",
      "North American Opossum \t 18\n",
      "Asian elephant \t 3.9\n",
      "Big brown bat \t 19.7\n",
      "Horse \t 2.9\n",
      "Donkey \t 3.1\n",
      "European hedgehog \t 10.1\n",
      "Patas monkey \t 10.9\n",
      "Western american chipmunk \t 14.9\n",
      "Domestic cat \t 12.5\n",
      "Galago \t 9.8\n",
      "Giraffe \t 1.9\n",
      "Pilot whale \t 2.7\n",
      "Gray seal \t 6.2\n",
      "Gray hyrax \t 6.3\n",
      "Human \t 8\n",
      "Mongoose lemur \t 9.5\n",
      "African elephant \t 3.3\n",
      "Thick-tailed opposum \t 19.4\n",
      "Macaque \t 10.1\n",
      "Mongolian gerbil \t 14.2\n",
      "Golden hamster \t 14.3\n",
      "Vole  \t 12.8\n",
      "House mouse \t 12.5\n",
      "Little brown bat \t 19.9\n",
      "Round-tailed muskrat \t 14.6\n",
      "Slow loris \t 11\n",
      "Degu \t 7.7\n",
      "Northern grasshopper mouse \t 14.5\n",
      "Rabbit \t 8.4\n",
      "Sheep \t 3.8\n",
      "Chimpanzee \t 9.7\n",
      "Tiger \t 15.8\n",
      "Jaguar \t 10.4\n",
      "Lion \t 13.5\n",
      "Baboon \t 9.4\n",
      "Desert hedgehog \t 10.3\n",
      "Potto \t 11\n",
      "Deer mouse \t 11.5\n",
      "Phalanger \t 13.7\n",
      "Caspian seal \t 3.5\n",
      "Common porpoise \t 5.6\n",
      "Potoroo \t 11.1\n",
      "Giant armadillo \t 18.1\n",
      "Rock hyrax \t 5.4\n",
      "Laboratory rat \t 13\n",
      "African striped mouse \t 8.7\n",
      "Squirrel monkey \t 9.6\n",
      "Eastern american mole \t 8.4\n",
      "Cotton rat \t 11.3\n",
      "Mole rat \t 10.6\n",
      "Arctic ground squirrel \t 16.6\n",
      "Thirteen-lined ground squirrel \t 13.8\n",
      "Golden-mantled ground squirrel \t 15.9\n",
      "Musk shrew \t 12.8\n",
      "Pig \t 9.1\n",
      "Short-nosed echidna \t 8.6\n",
      "Eastern american chipmunk \t 15.8\n",
      "Brazilian tapir \t 4.4\n",
      "Tenrec \t 15.6\n",
      "Tree shrew \t 8.9\n",
      "Bottle-nosed dolphin \t 5.2\n",
      "Genet \t 6.3\n",
      "Arctic fox \t 12.5\n",
      "Red fox \t 9.8\n"
     ]
    }
   ],
   "source": [
    "for eachtime in time:\n",
    "    print(\"\"\"%s \\t %s\"\"\"%(eachtime.split(\",\")[0], eachtime.split(\",\")[5]))"
   ]
  },
  {
   "cell_type": "code",
   "execution_count": null,
   "metadata": {},
   "outputs": [],
   "source": []
  }
 ],
 "metadata": {
  "kernelspec": {
   "display_name": "Python 3",
   "language": "python",
   "name": "python3"
  },
  "language_info": {
   "codemirror_mode": {
    "name": "ipython",
    "version": 3
   },
   "file_extension": ".py",
   "mimetype": "text/x-python",
   "name": "python",
   "nbconvert_exporter": "python",
   "pygments_lexer": "ipython3",
   "version": "3.7.7"
  }
 },
 "nbformat": 4,
 "nbformat_minor": 4
}
