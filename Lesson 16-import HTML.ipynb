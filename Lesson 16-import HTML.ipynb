{
 "cells": [
  {
   "cell_type": "code",
   "execution_count": 8,
   "metadata": {},
   "outputs": [],
   "source": [
    "import requests"
   ]
  },
  {
   "cell_type": "code",
   "execution_count": 10,
   "metadata": {},
   "outputs": [
    {
     "name": "stdout",
     "output_type": "stream",
     "text": [
      "Enter city name: tokyo\n"
     ]
    }
   ],
   "source": [
    "placeName=input(\"Enter city name: \")"
   ]
  },
  {
   "cell_type": "code",
   "execution_count": 29,
   "metadata": {},
   "outputs": [],
   "source": [
    "weather=\"http://api.openweathermap.org/data/2.5/weather?q=%s&mode=html&units=metric&APPID=ad4a9fa289b339beaebe078f6f28a831\"%(placeName)"
   ]
  },
  {
   "cell_type": "code",
   "execution_count": 30,
   "metadata": {},
   "outputs": [],
   "source": [
    "respObj=requests.get(weather)"
   ]
  },
  {
   "cell_type": "code",
   "execution_count": 31,
   "metadata": {},
   "outputs": [
    {
     "data": {
      "text/plain": [
       "<Response [200]>"
      ]
     },
     "execution_count": 31,
     "metadata": {},
     "output_type": "execute_result"
    }
   ],
   "source": [
    "respObj"
   ]
  },
  {
   "cell_type": "code",
   "execution_count": 32,
   "metadata": {},
   "outputs": [],
   "source": [
    "weather=respObj.text"
   ]
  },
  {
   "cell_type": "code",
   "execution_count": 33,
   "metadata": {},
   "outputs": [
    {
     "data": {
      "text/plain": [
       "'<!DOCTYPE html>\\n<html lang=\"en\">\\n<head>\\n  <meta charset=\"utf-8\">\\n  <meta name=\"keywords\" content=\"weather, world, openweathermap, weather, layer\" />\\n  <meta name=\"description\" content=\"A layer with current weather conditions in cities for world wide\" />\\n  <meta name=\"domain\" content=\"openweathermap.org\" />\\n  <meta http-equiv=\"pragma\" content=\"no-cache\" />\\n  <meta http-equiv=\"Expires\" content=\"-1\" />\\n</head>\\n<body>\\n  <div style=\"font-size: medium; font-weight: bold; margin-bottom: 0px;\">Tokyo</div>\\n  <div style=\"float: left; width: 130px;\">\\n    <div style=\"display: block; clear: left;\">\\n      <div style=\"float: left;\" title=\"Titel\">\\n        <img height=\"45\" width=\"45\" style=\"border: medium none; width: 45px; height: 45px; background: url(&quot;http://openweathermap.org/img/w/04d.png&quot;) repeat scroll 0% 0% transparent;\" alt=\"title\" src=\"http://openweathermap.org/images/transparent.png\"/>\\n      </div>\\n      <div style=\"float: left;\">\\n        <div style=\"display: block; clear: left; font-size: medium; font-weight: bold; padding: 0pt 3pt;\" title=\"Current Temperature\">26.14°C</div>\\n        <div style=\"display: block; width: 85px; overflow: visible;\"></div>\\n      </div>\\n    </div>\\n    <div style=\"display: block; clear: left; font-size: small;\">Clouds: 75%</div>\\n    <div style=\"display: block; clear: left; color: gray; font-size: x-small;\" >Humidity: 69%</div>\\n    <div style=\"display: block; clear: left; color: gray; font-size: x-small;\" >Wind: 2.1 m/s</div>\\n    <div style=\"display: block; clear: left; color: gray; font-size: x-small;\" >Pressure: 1001hpa</div>\\n  </div>\\n  <div style=\"display: block; clear: left; color: gray; font-size: x-small;\">\\n    <a href=\"http://openweathermap.org/city/1850144?utm_source=openweathermap&utm_medium=widget&utm_campaign=html_old\" target=\"_blank\">More..</a>\\n  </div>\\n  <script>(function(i,s,o,g,r,a,m){i[\\'GoogleAnalyticsObject\\']=r;i[r]=i[r]||function(){\\n(i[r].q=i[r].q||[]).push(arguments)},i[r].l=1*new Date();a=s.createElement(o),\\nm=s.getElementsByTagName(o)[0];a.async=1;a.src=g;m.parentNode.insertBefore(a,m)\\n})(window,document,\\'script\\',\\'//www.google-analytics.com/analytics.js\\',\\'ga\\');ga(\\'create\\', \\'UA-31601618-9\\', \\'auto\\');ga(\\'send\\', \\'pageview\\');</script>\\n</body>\\n</html>'"
      ]
     },
     "execution_count": 33,
     "metadata": {},
     "output_type": "execute_result"
    }
   ],
   "source": [
    "weather"
   ]
  },
  {
   "cell_type": "code",
   "execution_count": 35,
   "metadata": {},
   "outputs": [],
   "source": [
    "weather=respObj.text.split('\\n')"
   ]
  },
  {
   "cell_type": "code",
   "execution_count": 36,
   "metadata": {},
   "outputs": [
    {
     "name": "stdout",
     "output_type": "stream",
     "text": [
      "36\n"
     ]
    }
   ],
   "source": [
    "print(len(weather))"
   ]
  },
  {
   "cell_type": "code",
   "execution_count": 37,
   "metadata": {},
   "outputs": [
    {
     "data": {
      "text/plain": [
       "['<!DOCTYPE html>',\n",
       " '<html lang=\"en\">',\n",
       " '<head>',\n",
       " '  <meta charset=\"utf-8\">',\n",
       " '  <meta name=\"keywords\" content=\"weather, world, openweathermap, weather, layer\" />',\n",
       " '  <meta name=\"description\" content=\"A layer with current weather conditions in cities for world wide\" />',\n",
       " '  <meta name=\"domain\" content=\"openweathermap.org\" />',\n",
       " '  <meta http-equiv=\"pragma\" content=\"no-cache\" />',\n",
       " '  <meta http-equiv=\"Expires\" content=\"-1\" />',\n",
       " '</head>',\n",
       " '<body>',\n",
       " '  <div style=\"font-size: medium; font-weight: bold; margin-bottom: 0px;\">Tokyo</div>',\n",
       " '  <div style=\"float: left; width: 130px;\">',\n",
       " '    <div style=\"display: block; clear: left;\">',\n",
       " '      <div style=\"float: left;\" title=\"Titel\">',\n",
       " '        <img height=\"45\" width=\"45\" style=\"border: medium none; width: 45px; height: 45px; background: url(&quot;http://openweathermap.org/img/w/04d.png&quot;) repeat scroll 0% 0% transparent;\" alt=\"title\" src=\"http://openweathermap.org/images/transparent.png\"/>',\n",
       " '      </div>',\n",
       " '      <div style=\"float: left;\">',\n",
       " '        <div style=\"display: block; clear: left; font-size: medium; font-weight: bold; padding: 0pt 3pt;\" title=\"Current Temperature\">26.14°C</div>',\n",
       " '        <div style=\"display: block; width: 85px; overflow: visible;\"></div>',\n",
       " '      </div>',\n",
       " '    </div>',\n",
       " '    <div style=\"display: block; clear: left; font-size: small;\">Clouds: 75%</div>',\n",
       " '    <div style=\"display: block; clear: left; color: gray; font-size: x-small;\" >Humidity: 69%</div>',\n",
       " '    <div style=\"display: block; clear: left; color: gray; font-size: x-small;\" >Wind: 2.1 m/s</div>',\n",
       " '    <div style=\"display: block; clear: left; color: gray; font-size: x-small;\" >Pressure: 1001hpa</div>',\n",
       " '  </div>',\n",
       " '  <div style=\"display: block; clear: left; color: gray; font-size: x-small;\">',\n",
       " '    <a href=\"http://openweathermap.org/city/1850144?utm_source=openweathermap&utm_medium=widget&utm_campaign=html_old\" target=\"_blank\">More..</a>',\n",
       " '  </div>',\n",
       " \"  <script>(function(i,s,o,g,r,a,m){i['GoogleAnalyticsObject']=r;i[r]=i[r]||function(){\",\n",
       " '(i[r].q=i[r].q||[]).push(arguments)},i[r].l=1*new Date();a=s.createElement(o),',\n",
       " 'm=s.getElementsByTagName(o)[0];a.async=1;a.src=g;m.parentNode.insertBefore(a,m)',\n",
       " \"})(window,document,'script','//www.google-analytics.com/analytics.js','ga');ga('create', 'UA-31601618-9', 'auto');ga('send', 'pageview');</script>\",\n",
       " '</body>',\n",
       " '</html>']"
      ]
     },
     "execution_count": 37,
     "metadata": {},
     "output_type": "execute_result"
    }
   ],
   "source": [
    "weather"
   ]
  },
  {
   "cell_type": "code",
   "execution_count": 45,
   "metadata": {},
   "outputs": [],
   "source": [
    "del weather[28:34]"
   ]
  },
  {
   "cell_type": "code",
   "execution_count": 46,
   "metadata": {},
   "outputs": [
    {
     "data": {
      "text/plain": [
       "['<!DOCTYPE html>',\n",
       " '<html lang=\"en\">',\n",
       " '<head>',\n",
       " '  <meta charset=\"utf-8\">',\n",
       " '  <meta name=\"keywords\" content=\"weather, world, openweathermap, weather, layer\" />',\n",
       " '  <meta name=\"description\" content=\"A layer with current weather conditions in cities for world wide\" />',\n",
       " '  <meta name=\"domain\" content=\"openweathermap.org\" />',\n",
       " '  <meta http-equiv=\"pragma\" content=\"no-cache\" />',\n",
       " '  <meta http-equiv=\"Expires\" content=\"-1\" />',\n",
       " '</head>',\n",
       " '<body>',\n",
       " '  <div style=\"font-size: medium; font-weight: bold; margin-bottom: 0px;\">Tokyo</div>',\n",
       " '  <div style=\"float: left; width: 130px;\">',\n",
       " '    <div style=\"display: block; clear: left;\">',\n",
       " '      <div style=\"float: left;\" title=\"Titel\">',\n",
       " '        <img height=\"45\" width=\"45\" style=\"border: medium none; width: 45px; height: 45px; background: url(&quot;http://openweathermap.org/img/w/04d.png&quot;) repeat scroll 0% 0% transparent;\" alt=\"title\" src=\"http://openweathermap.org/images/transparent.png\"/>',\n",
       " '      </div>',\n",
       " '      <div style=\"float: left;\">',\n",
       " '        <div style=\"display: block; clear: left; font-size: medium; font-weight: bold; padding: 0pt 3pt;\" title=\"Current Temperature\">26.14°C</div>',\n",
       " '        <div style=\"display: block; width: 85px; overflow: visible;\"></div>',\n",
       " '      </div>',\n",
       " '    </div>',\n",
       " '    <div style=\"display: block; clear: left; font-size: small;\">Clouds: 75%</div>',\n",
       " '    <div style=\"display: block; clear: left; color: gray; font-size: x-small;\" >Humidity: 69%</div>',\n",
       " '    <div style=\"display: block; clear: left; color: gray; font-size: x-small;\" >Wind: 2.1 m/s</div>',\n",
       " '    <div style=\"display: block; clear: left; color: gray; font-size: x-small;\" >Pressure: 1001hpa</div>',\n",
       " '  </div>',\n",
       " '</html>']"
      ]
     },
     "execution_count": 46,
     "metadata": {},
     "output_type": "execute_result"
    }
   ],
   "source": [
    "weather"
   ]
  },
  {
   "cell_type": "code",
   "execution_count": null,
   "metadata": {},
   "outputs": [],
   "source": []
  }
 ],
 "metadata": {
  "kernelspec": {
   "display_name": "Python 3",
   "language": "python",
   "name": "python3"
  },
  "language_info": {
   "codemirror_mode": {
    "name": "ipython",
    "version": 3
   },
   "file_extension": ".py",
   "mimetype": "text/x-python",
   "name": "python",
   "nbconvert_exporter": "python",
   "pygments_lexer": "ipython3",
   "version": "3.7.7"
  }
 },
 "nbformat": 4,
 "nbformat_minor": 4
}
